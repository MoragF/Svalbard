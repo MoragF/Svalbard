{
 "cells": [
  {
   "cell_type": "code",
   "execution_count": 29,
   "metadata": {},
   "outputs": [],
   "source": [
    "import numpy as np\n",
    "import pandas as pd\n",
    "import struct\n",
    "import xarray as xr"
   ]
  },
  {
   "cell_type": "code",
   "execution_count": 30,
   "metadata": {},
   "outputs": [],
   "source": [
    "grids = {}\n",
    "\n",
    "for i in ['lon','lat']:\n",
    "\n",
    "    grid = np.array(pd.read_csv(f'grids/{i}grid.dat',header=None, delim_whitespace=True))\n",
    "\n",
    "    flat_grid = grid.ravel()\n",
    "\n",
    "    shaped_grid = flat_grid.reshape(360,120)\n",
    "    \n",
    "    grids[i] = shaped_grid\n"
   ]
  },
  {
   "cell_type": "code",
   "execution_count": 31,
   "metadata": {},
   "outputs": [
    {
     "data": {
      "text/plain": [
       "{'lon': array([[319.5 , 320.5 , 321.5 , ...,  76.48,  77.48,  78.48],\n",
       "        [ 79.48,  80.48,  81.48, ..., 196.52, 197.52, 198.52],\n",
       "        [199.52, 200.52, 201.52, ..., 316.5 , 317.5 , 318.5 ],\n",
       "        ...,\n",
       "        [319.21, 319.64, 320.06, ..., 335.93, 335.77, 335.61],\n",
       "        [335.45, 335.28, 335.11, ..., 302.89, 302.72, 302.55],\n",
       "        [302.39, 302.23, 302.07, ..., 317.94, 318.36, 318.79]]),\n",
       " 'lat': array([[48.99, 48.99, 48.99, ..., 49.03, 49.03, 49.03],\n",
       "        [49.03, 49.04, 49.04, ..., 49.04, 49.04, 49.03],\n",
       "        [49.03, 49.03, 49.03, ..., 48.99, 48.99, 48.99],\n",
       "        ...,\n",
       "        [72.71, 72.71, 72.71, ..., 79.6 , 79.65, 79.7 ],\n",
       "        [79.75, 79.8 , 79.84, ..., 79.84, 79.8 , 79.75],\n",
       "        [79.7 , 79.65, 79.6 , ..., 72.71, 72.71, 72.71]])}"
      ]
     },
     "execution_count": 31,
     "metadata": {},
     "output_type": "execute_result"
    }
   ],
   "source": [
    "grids"
   ]
  },
  {
   "cell_type": "code",
   "execution_count": 38,
   "metadata": {},
   "outputs": [],
   "source": [
    "def process_piomas(year):\n",
    "    \n",
    "    binary_dir = f'/exports/csce/datastore/geos/groups/geos_EO/Databases/MAR/PIOMAS/heff.H{year}'\n",
    "    \n",
    "    ############################################################\n",
    "    \n",
    "    # Read File\n",
    "    \n",
    "    with open(binary_dir, mode='rb') as file:\n",
    "    \n",
    "        fileContent = file.read()\n",
    "        data = struct.unpack(\"f\" * (len(fileContent)// 4), fileContent)\n",
    "        \n",
    "    ############################################################\n",
    "    \n",
    "    # Put it in a 3D array\n",
    "        \n",
    "        native_data = np.full((12,360,120),np.nan)\n",
    "\n",
    "        for month in range(1,13):\n",
    "            \n",
    "            start = (month-1)*(360*120)\n",
    "            end = month*(360*120)\n",
    "            thickness_list = np.array(data[start:end])\n",
    "            \n",
    "            gridded = thickness_list.reshape(360,120)\n",
    "            native_data[month-1,:,:] = gridded\n",
    "            \n",
    "          \n",
    "    ############################################################\n",
    "        \n",
    "    # Output to NetCDF4\n",
    "        \n",
    "        ds = xr.Dataset( data_vars={'thickness':(['t','x','y'],native_data)},\n",
    "\n",
    "                         coords =  {'lon':(['x','y'],grids['lon']),\n",
    "                                    'lat':(['x','y'],grids['lat']),\n",
    "                                    't':(['t'],pd.date_range(start=str(year)+\"-01\",end= str(year)+\"-12\",freq='MS'))})\n",
    "        \n",
    "        ds.attrs['data_name'] = 'Monthly mean Piomas sea ice thickness data'\n",
    "        \n",
    "        ds.attrs['description'] = \"\"\"Sea ice thickness in meters on the native 360x120 grid, \n",
    "                                    data produced by University of Washington Polar Science Center\"\"\"\n",
    "        \n",
    "        ds.attrs['year'] = f\"\"\"These data are for the year {year}\"\"\"\n",
    "        \n",
    "        ds.attrs['citation'] = \"\"\"When using this data please use the citation: \n",
    "                                Zhang, Jinlun and D.A. Rothrock: Modeling global sea \n",
    "                                ice with a thickness and enthalpy distribution model \n",
    "                                in generalized curvilinear coordinates,\n",
    "                                Mon. Wea. Rev. 131(5), 681-697, 2003.\"\"\"\n",
    "        \n",
    "        ds.attrs['code to read'] = \"\"\"  # Example code to read a month of this data \n",
    "    \n",
    "                                        def read_month_of_piomas(year,month): \n",
    "    \n",
    "                                            data_dir = 'output/' \n",
    "\n",
    "                                            with xr.open_dataset(f'{data_dir}{year}.nc') as data: \n",
    "\n",
    "                                                ds_month = data.where(int(month) == data.month, drop =True) \n",
    "\n",
    "                                                return(ds_month)\"\"\"\n",
    "        \n",
    "        ds.attrs['python author'] = \"\"\"Robbie Mallett wrote this python code. If there's a problem with it, \n",
    "                                        email him at robbie.mallett.17@ucl.ac.uk\"\"\"\n",
    "                                \n",
    "        \n",
    "        \n",
    "\n",
    "        output_dir = f'/exports/csce/datastore/geos/groups/geos_EO/Databases/MAR/PIOMAS/'\n",
    "\n",
    "        ds.to_netcdf(f'{output_dir}{year}.nc','w')\n",
    "        "
   ]
  },
  {
   "cell_type": "code",
   "execution_count": 39,
   "metadata": {},
   "outputs": [],
   "source": [
    "for year in range(1978,2021):\n",
    "    \n",
    "    process_piomas(year)"
   ]
  },
  {
   "cell_type": "code",
   "execution_count": 17,
   "metadata": {},
   "outputs": [],
   "source": [
    "    binary_dir = f'/exports/csce/datastore/geos/groups/geos_EO/Databases/MAR/PIOMAS/heff.H{year}'\n",
    "    \n",
    "    ############################################################\n",
    "    \n",
    "    # Read File\n",
    "    \n",
    "    with open(binary_dir, mode='rb') as file:\n",
    "    \n",
    "        fileContent = file.read()\n",
    "        data = struct.unpack(\"f\" * (len(fileContent)// 4), fileContent)"
   ]
  },
  {
   "cell_type": "code",
   "execution_count": 22,
   "metadata": {},
   "outputs": [
    {
     "data": {
      "text/plain": [
       "(518400,)"
      ]
     },
     "execution_count": 22,
     "metadata": {},
     "output_type": "execute_result"
    }
   ],
   "source": [
    "np.shape(data)"
   ]
  },
  {
   "cell_type": "code",
   "execution_count": 28,
   "metadata": {},
   "outputs": [
    {
     "data": {
      "text/plain": [
       "DatetimeIndex(['2000-01-01', '2000-02-01', '2000-03-01', '2000-04-01',\n",
       "               '2000-05-01'],\n",
       "              dtype='datetime64[ns]', freq='MS')"
      ]
     },
     "execution_count": 28,
     "metadata": {},
     "output_type": "execute_result"
    }
   ],
   "source": [
    "pd.date_range(start=\"2000-01\",end= \"2000-05\",freq='MS')"
   ]
  },
  {
   "cell_type": "code",
   "execution_count": null,
   "metadata": {},
   "outputs": [],
   "source": []
  }
 ],
 "metadata": {
  "kernelspec": {
   "display_name": "Python 3",
   "language": "python",
   "name": "python3"
  },
  "language_info": {
   "codemirror_mode": {
    "name": "ipython",
    "version": 3
   },
   "file_extension": ".py",
   "mimetype": "text/x-python",
   "name": "python",
   "nbconvert_exporter": "python",
   "pygments_lexer": "ipython3",
   "version": "3.6.8"
  }
 },
 "nbformat": 4,
 "nbformat_minor": 4
}
