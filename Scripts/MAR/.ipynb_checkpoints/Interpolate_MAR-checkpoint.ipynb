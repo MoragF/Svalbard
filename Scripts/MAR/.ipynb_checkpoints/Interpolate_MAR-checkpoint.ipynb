{
 "cells": [
  {
   "cell_type": "code",
   "execution_count": null,
   "metadata": {},
   "outputs": [],
   "source": [
    "import xarray as xr\n",
    "import numpy as np\n",
    "import scipy.io as io\n",
    "import matplotlib.pyplot as plt\n",
    "import pandas as pd\n",
    "import scipy as sci\n",
    "from netCDF4 import Dataset as netcdf"
   ]
  },
  {
   "cell_type": "code",
   "execution_count": null,
   "metadata": {},
   "outputs": [],
   "source": [
    "from affine import Affine\n",
    "tif = xr.open_rasterio('/home/s1423313/Documents/Sense_EDI/Svalbard/Regions/Region_Masks/07_rgi60_Svalbard_corr_marine_R2.tif')"
   ]
  },
  {
   "cell_type": "code",
   "execution_count": null,
   "metadata": {},
   "outputs": [],
   "source": [
    "ds= xr.open_dataset('/exports/csce/datastore/geos/groups/geos_EO/Databases/MAR/Svalbard-RA/MARv3.11.2-6km-daily-ERA5-2001.nc')\n",
    "ds2=ds.RU.where(ds.RU<1)"
   ]
  },
  {
   "cell_type": "code",
   "execution_count": null,
   "metadata": {},
   "outputs": [],
   "source": [
    "xx,yy=np.meshgrid(tif.x,tif.y)\n",
    "points=ds.LON.values.flatten(),ds.LAT.values.flatten()\n",
    "values= ds.RU.where(ds.RU<1)[0,0].values.flatten()\n",
    "points\n",
    "test = sci.interpolate.griddata(points,values,(xx,yy),method='linear')"
   ]
  }
 ],
 "metadata": {
  "kernelspec": {
   "display_name": "Python 3",
   "language": "python",
   "name": "python3"
  },
  "language_info": {
   "codemirror_mode": {
    "name": "ipython",
    "version": 3
   },
   "file_extension": ".py",
   "mimetype": "text/x-python",
   "name": "python",
   "nbconvert_exporter": "python",
   "pygments_lexer": "ipython3",
   "version": "3.6.8"
  }
 },
 "nbformat": 4,
 "nbformat_minor": 2
}
