{
 "cells": [
  {
   "cell_type": "markdown",
   "metadata": {},
   "source": [
    "https://magoosh.com/statistics/making-sense-of-time-series-data/"
   ]
  },
  {
   "cell_type": "code",
   "execution_count": 2,
   "metadata": {},
   "outputs": [],
   "source": [
    "import xarray as xr\n",
    "import numpy as np\n",
    "import scipy.io as io\n",
    "import matplotlib.pyplot as plt\n",
    "import pandas as pd\n",
    "import scipy as sci\n",
    "from netCDF4 import Dataset as netcdf\n",
    "import cartopy.crs as ccrs\n",
    "import cartopy.feature as cfeature"
   ]
  },
  {
   "cell_type": "code",
   "execution_count": 13,
   "metadata": {},
   "outputs": [],
   "source": [
    "def deseason(dataset,variable,time,n):\n",
    "    x=dataset.variable\n",
    "    t=dataset.time\n",
    "    period= 8\n",
    "    data_prod_cma=[]\n",
    "    factor=[]\n",
    "    sea_idx=[]\n",
    "    d_data=[]\n",
    "#center moving average - period is 12, so needs to skip 6 and then leave 6 at end.\n",
    "    for i in range(period/2,len(t)-period/2):\n",
    "# Seasonal factor: Original data divided by CMA:\n",
    "        data_prod_cma= x.values[i]/np.mean(np.mean(x.values[i-6:i+6]) + np.mean(x.values[i-5:i+7]))\n",
    "#to compute seasonal index: avergae of all seasonal factors\n",
    "    for j in range(12):\n",
    "        factor=data_prod_cma[j:]\n",
    "        sea_idx= np.mean(data_prod_cma[::period])\n",
    "    for k in range(period/2,len(t)-period/2):\n",
    "        d_data= x.values[k]* sea_idx[k%6]\n",
    "    np.save(str(n)+'.npy',d_data)\n",
    "    \n",
    "                      \n",
    "    \n",
    "    "
   ]
  },
  {
   "cell_type": "code",
   "execution_count": 91,
   "metadata": {},
   "outputs": [],
   "source": [
    "x=E_ds.elev\n",
    "t=E_ds.t\n",
    "period= 8\n",
    "data_prod_cma=[]\n",
    "factor=[]\n",
    "sea_idx=[]\n",
    "d_data=[]\n",
    "#center moving average - period is 12, so needs to skip 6 and then leave 6 at end.\n",
    "for i in range(int(period/2),len(t)-int(period/2)):\n",
    "# Seasonal factor: Original data divided by CMA:\n",
    "    d_p_c= x.values[i]/np.mean(np.mean(x.values[i-4:i+4]) + np.mean(x.values[i-3:i+5]))\n",
    "    data_prod_cma.append(d_p_c)\n",
    "    \n",
    "#to compute seasonal index: avergae of all seasonal factors\n",
    "for j in range(8):\n",
    "    factor=data_prod_cma[j:]\n",
    "    s_idx= np.mean(factor[::period])\n",
    "    sea_idx.append(s_idx)\n",
    "for k in range(len(x.values)):\n",
    "    data= x.values[k]* sea_idx[int((k+7)%8)]\n",
    "    d_data.append(data)"
   ]
  },
  {
   "cell_type": "code",
   "execution_count": 89,
   "metadata": {},
   "outputs": [
    {
     "data": {
      "text/plain": [
       "[1.042272481584182,\n",
       " 1.3064107412149801,\n",
       " 28.77459592252313,\n",
       " 0.3764396865875822,\n",
       " 0.39551952213771974,\n",
       " 0.4102321539955426,\n",
       " 0.4417954241836151,\n",
       " 0.4693078418198276,\n",
       " 0.48946062952509867,\n",
       " 0.5083033213493385]"
      ]
     },
     "execution_count": 89,
     "metadata": {},
     "output_type": "execute_result"
    }
   ],
   "source": [
    "factor=data_prod_cma[0:]\n",
    "s_idx= np.mean(factor[::8])\n",
    "factor[::8]"
   ]
  },
  {
   "cell_type": "code",
   "execution_count": 94,
   "metadata": {},
   "outputs": [
    {
     "data": {
      "text/plain": [
       "28.77459592252313"
      ]
     },
     "execution_count": 94,
     "metadata": {},
     "output_type": "execute_result"
    }
   ],
   "source": [
    "i=20\n",
    "d_p_c= x.values[i]/np.mean(np.mean(x.values[i-4:i+4]) + np.mean(x.values[i-3:i+5]))\n",
    "d_p_c"
   ]
  },
  {
   "cell_type": "code",
   "execution_count": null,
   "metadata": {},
   "outputs": [],
   "source": []
  },
  {
   "cell_type": "code",
   "execution_count": null,
   "metadata": {},
   "outputs": [],
   "source": []
  },
  {
   "cell_type": "code",
   "execution_count": 100,
   "metadata": {},
   "outputs": [
    {
     "data": {
      "text/plain": [
       "16.276413322598003"
      ]
     },
     "execution_count": 100,
     "metadata": {},
     "output_type": "execute_result"
    }
   ],
   "source": [
    "np.mean(np.mean(x.values[i-4:i+4])+ np.mean(x.values[i-3:i+5]))"
   ]
  },
  {
   "cell_type": "code",
   "execution_count": 47,
   "metadata": {},
   "outputs": [],
   "source": [
    "sea_idx= np.mean(factor[::period])"
   ]
  },
  {
   "cell_type": "code",
   "execution_count": 101,
   "metadata": {},
   "outputs": [
    {
     "data": {
      "text/plain": [
       "28.77459592252313"
      ]
     },
     "execution_count": 101,
     "metadata": {},
     "output_type": "execute_result"
    }
   ],
   "source": [
    "468.34721642572964/16.276413322598003"
   ]
  },
  {
   "cell_type": "code",
   "execution_count": 86,
   "metadata": {},
   "outputs": [
    {
     "name": "stderr",
     "output_type": "stream",
     "text": [
      "/usr/lib64/python3.6/site-packages/pandas/plotting/_converter.py:129: FutureWarning: Using an implicitly registered datetime converter for a matplotlib plotting method. The converter was registered by pandas on import. Future versions of pandas will require you to explicitly register matplotlib converters.\n",
      "\n",
      "To register the converters:\n",
      "\t>>> from pandas.plotting import register_matplotlib_converters\n",
      "\t>>> register_matplotlib_converters()\n",
      "  warnings.warn(msg, FutureWarning)\n"
     ]
    },
    {
     "data": {
      "text/plain": [
       "[<matplotlib.lines.Line2D at 0x7f0a2f369d68>]"
      ]
     },
     "execution_count": 86,
     "metadata": {},
     "output_type": "execute_result"
    },
    {
     "data": {
      "image/png": "[encoded data removed]",
      "text/plain": [
       "<Figure size 432x288 with 1 Axes>"
      ]
     },
     "metadata": {
      "needs_background": "light"
     },
     "output_type": "display_data"
    }
   ],
   "source": [
    "matdata=io.loadmat('/geos/d14/CS2/dhdt/Timeseries/Svalbard_LR5_MF/tmsr_45_90_07_rgi60_Svalbard_corr_land_R5.mat')\n",
    "elevation = matdata['Tmsr'][0] /0.00085\n",
    "t = matdata['time'][0]\n",
    "timepy= pd.to_datetime(t-719529, unit='D')\n",
    "E_ds = xr.Dataset(data_vars = dict(elev= ([\"t\"],elevation),d_elev=([\"t\"],d_data)),coords=dict(t=timepy))\n",
    "E_ds.elev.plot()\n",
    "E_ds.d_elev.plot()\n"
   ]
  },
  {
   "cell_type": "code",
   "execution_count": null,
   "metadata": {},
   "outputs": [],
   "source": [
    "https://machinelearningmastery.com/time-series-seasonality-with-python/"
   ]
  },
  {
   "cell_type": "code",
   "execution_count": null,
   "metadata": {},
   "outputs": [],
   "source": [
    "from pandas import read_csv\n",
    "from matplotlib import pyplot\n",
    "series = read_csv('daily-minimum-temperatures.csv', header=0, index_col=0)\n",
    "resample = series.resample('M')\n",
    "monthly_mean = resample.mean()\n",
    "X = series.values\n",
    "diff = list()\n",
    "months_in_year = 12\n",
    "for i in range(months_in_year, len(monthly_mean)):\n",
    "\tvalue = monthly_mean[i] - monthly_mean[i - months_in_year]\n",
    "\tdiff.append(value)\n",
    "pyplot.plot(diff)\n",
    "pyplot.show()"
   ]
  },
  {
   "cell_type": "code",
   "execution_count": null,
   "metadata": {},
   "outputs": [],
   "source": [
    "\n",
    "from pandas import read_csv\n",
    "from matplotlib import pyplot\n",
    "series = read_csv('daily-minimum-temperatures.csv', header=0, index_col=0)\n",
    "X = series.values\n",
    "diff = list()\n",
    "days_in_year = 365\n",
    "for i in range(days_in_year, len(X)):\n",
    "\tmonth_str = str(series.index[i].year-1)+'-'+str(series.index[i].month)\n",
    "\tmonth_mean_last_year = series[month_str].mean()\n",
    "\tvalue = X[i] - month_mean_last_year\n",
    "\tdiff.append(value)\n",
    "pyplot.plot(diff)\n",
    "pyplot.show()\n"
   ]
  },
  {
   "cell_type": "code",
   "execution_count": null,
   "metadata": {},
   "outputs": [],
   "source": []
  },
  {
   "cell_type": "code",
   "execution_count": null,
   "metadata": {},
   "outputs": [],
   "source": []
  }
 ],
 "metadata": {
  "kernelspec": {
   "display_name": "Python 3",
   "language": "python",
   "name": "python3"
  },
  "language_info": {
   "codemirror_mode": {
    "name": "ipython",
    "version": 3
   },
   "file_extension": ".py",
   "mimetype": "text/x-python",
   "name": "python",
   "nbconvert_exporter": "python",
   "pygments_lexer": "ipython3",
   "version": "3.6.8"
  }
 },
 "nbformat": 4,
 "nbformat_minor": 2
}
