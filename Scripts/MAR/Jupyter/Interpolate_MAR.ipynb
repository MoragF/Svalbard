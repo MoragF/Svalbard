{
 "cells": [
  {
   "cell_type": "code",
   "execution_count": 1,
   "metadata": {},
   "outputs": [],
   "source": [
    "import xarray as xr\n",
    "import numpy as np\n",
    "import scipy.io as io\n",
    "import matplotlib.pyplot as plt\n",
    "import pandas as pd\n",
    "import scipy as sci\n",
    "from netCDF4 import Dataset as netcdf"
   ]
  },
  {
   "cell_type": "code",
   "execution_count": 2,
   "metadata": {},
   "outputs": [],
   "source": [
    "from affine import Affine\n",
    "tif = xr.open_rasterio('/home/s1423313/Documents/Sense_EDI/Svalbard/Regions/Region_Masks/07_rgi60_Svalbard_corr_marine_R2.tif')"
   ]
  },
  {
   "cell_type": "code",
   "execution_count": 3,
   "metadata": {},
   "outputs": [],
   "source": [
    "ds= xr.open_dataset('/exports/csce/datastore/geos/groups/geos_EO/Databases/MAR/Svalbard-RA/MARv3.11.2-6km-daily-ERA5-2001.nc')\n",
    "ds2=ds.RU.where(ds.RU<1)"
   ]
  },
  {
   "cell_type": "code",
   "execution_count": 4,
   "metadata": {},
   "outputs": [
    {
     "data": {
      "text/plain": [
       "(array([ 28.588034,  28.736588,  28.885504, ..., 109.05062 , 109.22071 ,\n",
       "        109.38946 ], dtype=float32),\n",
       " array([70.98816 , 71.011185, 71.03409 , ..., 79.15995 , 79.117096,\n",
       "        79.074165], dtype=float32))"
      ]
     },
     "execution_count": 4,
     "metadata": {},
     "output_type": "execute_result"
    }
   ],
   "source": [
    "xx,yy=np.meshgrid(tif.x,tif.y)\n",
    "points=ds.LON.values.flatten(),ds.LAT.values.flatten()\n",
    "values= ds.RU.where(ds.RU<1)[0,0].values.flatten()\n",
    "points\n",
    "#test = sci.interpolate.griddata(points,values,(xx,yy),method='linear')"
   ]
  },
  {
   "cell_type": "code",
   "execution_count": null,
   "metadata": {},
   "outputs": [],
   "source": []
  }
 ],
 "metadata": {
  "kernelspec": {
   "display_name": "Python 3",
   "language": "python",
   "name": "python3"
  },
  "language_info": {
   "codemirror_mode": {
    "name": "ipython",
    "version": 3
   },
   "file_extension": ".py",
   "mimetype": "text/x-python",
   "name": "python",
   "nbconvert_exporter": "python",
   "pygments_lexer": "ipython3",
   "version": "3.6.8"
  }
 },
 "nbformat": 4,
 "nbformat_minor": 2
}
