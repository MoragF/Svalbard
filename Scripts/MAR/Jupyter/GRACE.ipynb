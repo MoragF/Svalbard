{
 "cells": [
  {
   "cell_type": "code",
   "execution_count": 373,
   "metadata": {},
   "outputs": [],
   "source": [
    "import numpy as np\n",
    "import scipy.io as io\n",
    "import matplotlib.pyplot as plt\n",
    "import pandas as pd\n",
    "import scipy as sci\n",
    "from scipy import optimize\n",
    "from netCDF4 import Dataset as netcdf\n",
    "import xarray as xr"
   ]
  },
  {
   "cell_type": "code",
   "execution_count": 374,
   "metadata": {},
   "outputs": [],
   "source": [
    "ds= pd.read_csv('/exports/csce/datastore/geos/groups/geos_EO/Databases/GRACE/outTest',names=['time','altimetry'],index_col='time')\n",
    "G=ds.to_xarray()\n",
    "G[\"old_time\"]=G[\"time\"]\n",
    "G[\"time\"]=pd.to_datetime(G[\"time\"],unit='ms')\n",
    "G.altimetry.attrs[\"units\"]='m'"
   ]
  },
  {
   "cell_type": "code",
   "execution_count": 393,
   "metadata": {},
   "outputs": [],
   "source": [
    "def tmsrdecomp(x,y0,dataset):\n",
    "    #Fit Linear Trend\n",
    "    p = np.polyfit(x, y0,1)\n",
    "    dL = np.polyval(p,x)\n",
    "#Fit Sinusoid\n",
    "    y=y0-dL\n",
    "    yu = max(y)\n",
    "    yl = min(y)\n",
    "    yr = (yu-yl)                              # Range of `y'\n",
    "    yz = y-yu+(yr/2);\n",
    "\n",
    "    zx=x[np.where(np.diff(np.sign(yz)))[0]]\n",
    "#zx = x(yz .* circshift(yz,[0 1]) <= 0);  # Find zero-crossings\n",
    "    per = 2*np.mean(np.diff(zx))                     # Estimate period\n",
    "    ym = np.mean(y) \n",
    "\n",
    "    fit = lambda b,x : np.array(b[0])*np.array(np.sin(2*np.pi*x/b[1]+ 2*np.pi/b[2])) + b[3]\n",
    "#fit = @(b,x)  b(1).*(sin(2*pi*x./b(2) + 2*pi/b(3))) + b(4);    % Function to fit\n",
    "\n",
    "    fcn = lambda b : np.sum((fit(b,x)-y)**2)\n",
    "#fcn = @(b) sum((fit(b,x) - y).^2);                              % Least-Squares cost function\n",
    "    s= optimize.fmin(fcn , [yr, per,-1,ym])\n",
    "#s = fminsearch(fcn, [yr;  per;  -1;  ym])                       % Minimise Least-Squares\n",
    "    xp = np.linspace(min(x),max(x))\n",
    "#xp = linspace(min(x),max(x));\n",
    "\n",
    "    from scipy.interpolate import interp1d\n",
    "    yp = fit(s,xp) \n",
    "    cc=interp1d(xp,fit(s,xp))(x)\n",
    "\n",
    "    dataset.coords[\"xp\"]= pd.to_datetime(xp,unit='s') #ms\n",
    "    dataset[\"sinusoid\"]=((\"xp\"),fit(s,xp))\n",
    "    dataset[\"y\"] = ((\"time\"),y)\n",
    "    dataset[\"y-cc\"] = ((\"time\"),y-cc)\n",
    "    return dataset"
   ]
  },
  {
   "cell_type": "code",
   "execution_count": 394,
   "metadata": {},
   "outputs": [],
   "source": [
    "def plot_tmsrdecomp(dataset,y0):\n",
    "    fig, (ax1, ax2) = plt.subplots(2,figsize=(12,8), sharex=True)\n",
    "    plt.suptitle(y0.name, fontsize=16)\n",
    "\n",
    "    ax1.set_ylabel('m', fontsize=15)\n",
    "    a,= ax1.plot(ds.time, y0, color='b',label = y0.name)\n",
    "    b, = ax1.plot(ds.xp, ds.sinusoid, color='r', label = ds.sinusoid.name)\n",
    "    ax1.axhline(y=0,linestyle='dashed',color='gray')\n",
    "    p = [a,b]\n",
    "    ax1.legend(p, [p_.get_label() for p_ in p])\n",
    "    \n",
    "\n",
    "    ax2.set_ylabel('m', fontsize=15)  \n",
    "    ax2.plot(ds.time, y0, color='k')\n",
    "    ax2.plot(ds.time, ds.y, color='r')\n",
    "    ax2.plot(ds.time, ds[\"y-cc\"], color='g')\n",
    "    ax1.axhline(y=0,linestyle='dashed',color='gray')\n",
    "    ax2.legend([y0.name, str(y0.name)+'-Linear Trend',str(y0.name)+\"-Resample Sinusoid\" ])\n",
    "    \n",
    "    fig.tight_layout(rect=[0, 0.03, 1, 0.95])"
   ]
  },
  {
   "cell_type": "code",
   "execution_count": 387,
   "metadata": {},
   "outputs": [
    {
     "name": "stdout",
     "output_type": "stream",
     "text": [
      "Optimization terminated successfully.\n",
      "         Current function value: 550585.492688\n",
      "         Iterations: 403\n",
      "         Function evaluations: 761\n"
     ]
    },
    {
     "data": {
      "text/html": [
       "<pre>&lt;xarray.Dataset&gt;\n",
       "Dimensions:    (time: 121, xp: 50)\n",
       "Coordinates:\n",
       "  * time       (time) datetime64[ns] 2010-10-16T01:00:00 ... 2020-08-24T01:00:00\n",
       "  * xp         (xp) datetime64[ns] 2010-10-16T01:00:00 ... 2020-08-24T01:00:00\n",
       "Data variables:\n",
       "    altimetry  (time) float64 0.0 40.28 84.9 ... -2.219e+03 -2.45e+03 -2.415e+03\n",
       "    old_time   (time) int64 1287190800000 1289779200000 ... 1598230800000\n",
       "    sinusoid   (xp) float64 -215.3 -84.61 166.0 181.3 ... 214.5 34.18 -194.5\n",
       "    y          (time) float64 -181.1 -120.9 -56.25 58.2 ... -41.48 -252.7 -198.0\n",
       "    y-cc       (time) float64 34.18 41.13 52.39 86.57 ... -33.73 -151.6 -3.425</pre>"
      ],
      "text/plain": [
       "<xarray.Dataset>\n",
       "Dimensions:    (time: 121, xp: 50)\n",
       "Coordinates:\n",
       "  * time       (time) datetime64[ns] 2010-10-16T01:00:00 ... 2020-08-24T01:00:00\n",
       "  * xp         (xp) datetime64[ns] 2010-10-16T01:00:00 ... 2020-08-24T01:00:00\n",
       "Data variables:\n",
       "    altimetry  (time) float64 0.0 40.28 84.9 ... -2.219e+03 -2.45e+03 -2.415e+03\n",
       "    old_time   (time) int64 1287190800000 1289779200000 ... 1598230800000\n",
       "    sinusoid   (xp) float64 -215.3 -84.61 166.0 181.3 ... 214.5 34.18 -194.5\n",
       "    y          (time) float64 -181.1 -120.9 -56.25 58.2 ... -41.48 -252.7 -198.0\n",
       "    y-cc       (time) float64 34.18 41.13 52.39 86.57 ... -33.73 -151.6 -3.425"
      ]
     },
     "execution_count": 387,
     "metadata": {},
     "output_type": "execute_result"
    }
   ],
   "source": [
    "ds= tmsrdecomp(G.old_time,G.altimetry,G)\n",
    "plot_tmsrdecomp(ds,ds.altimetry)\n"
   ]
  },
  {
   "cell_type": "code",
   "execution_count": 395,
   "metadata": {},
   "outputs": [
    {
     "data": {
      "text/html": [
       "<pre>&lt;xarray.Dataset&gt;\n",
       "Dimensions:        (old_time: 182, second_time: 182, time: 182)\n",
       "Coordinates:\n",
       "  * old_time       (old_time) float64 2.002e+03 2.002e+03 ... 2.017e+03\n",
       "  * second_time    (second_time) float64 1.022e+09 1.024e+09 ... 1.498e+09\n",
       "  * time           (time) datetime64[ns] 2002-05-16T11:51:07.776000142 ... 2017-06-16T00:20:45.023996592\n",
       "Data variables:\n",
       "    SMB            (old_time) float64 95.82 92.14 76.21 ... -60.34 -58.38 -60.83\n",
       "    SMB_Corrected  (old_time) float64 113.3 109.4 93.34 ... -75.82 -74.04 -76.67</pre>"
      ],
      "text/plain": [
       "<xarray.Dataset>\n",
       "Dimensions:        (old_time: 182, second_time: 182, time: 182)\n",
       "Coordinates:\n",
       "  * old_time       (old_time) float64 2.002e+03 2.002e+03 ... 2.017e+03\n",
       "  * second_time    (second_time) float64 1.022e+09 1.024e+09 ... 1.498e+09\n",
       "  * time           (time) datetime64[ns] 2002-05-16T11:51:07.776000142 ... 2017-06-16T00:20:45.023996592\n",
       "Data variables:\n",
       "    SMB            (old_time) float64 95.82 92.14 76.21 ... -60.34 -58.38 -60.83\n",
       "    SMB_Corrected  (old_time) float64 113.3 109.4 93.34 ... -75.82 -74.04 -76.67"
      ]
     },
     "execution_count": 395,
     "metadata": {},
     "output_type": "execute_result"
    }
   ],
   "source": [
    "a=pd.read_csv('/exports/csce/datastore/geos/groups/geos_EO/Databases/GRACE/time_series.dir/5_Svalbard/5_Svalbard_MERRA-2_smb_tseries.txt',header=1, sep=\"\\s+\",engine='python',names=[\"old_time\",\"SMB\",\"SMB_Corrected\"],index_col=\"old_time\")\n",
    "SMB=a.to_xarray()\n",
    "SMB.SMB.attrs[\"units\"]= 'Gt'\n",
    "SMB[\"second_time\"]=total_seconds\n",
    "SMB[\"time\"]=pd.to_datetime(SMB[\"second_time\"],unit='s')\n",
    "SMB\n"
   ]
  },
  {
   "cell_type": "code",
   "execution_count": 396,
   "metadata": {},
   "outputs": [
    {
     "name": "stdout",
     "output_type": "stream",
     "text": [
      "Optimization terminated successfully.\n",
      "         Current function value: 38306.781922\n",
      "         Iterations: 221\n",
      "         Function evaluations: 433\n"
     ]
    },
    {
     "data": {
      "text/html": [
       "<pre>&lt;xarray.Dataset&gt;\n",
       "Dimensions:        (old_time: 182, second_time: 182, time: 182, xp: 50)\n",
       "Coordinates:\n",
       "  * old_time       (old_time) float64 2.002e+03 2.002e+03 ... 2.017e+03\n",
       "  * second_time    (second_time) float64 1.022e+09 1.024e+09 ... 1.498e+09\n",
       "  * time           (time) datetime64[ns] 2002-05-16T11:51:07.776000142 ... 2017-06-16T00:20:45.023996592\n",
       "  * xp             (xp) datetime64[ns] 2002-05-16T11:51:07.776000142 ... 2017-06-16T00:20:45.023996592\n",
       "Data variables:\n",
       "    SMB            (old_time) float64 95.82 92.14 76.21 ... -60.34 -58.38 -60.83\n",
       "    SMB_Corrected  (old_time) float64 113.3 109.4 93.34 ... -75.82 -74.04 -76.67\n",
       "    sinusoid       (xp) float64 -0.143 -3.976 1.57 3.412 ... -2.508 -2.703 3.479\n",
       "    y              (time) float64 30.31 27.28 12.02 ... -8.222 -5.603 -7.389\n",
       "    y-cc           (time) float64 30.45 28.47 14.24 ... -8.347 -7.403 -10.87</pre>"
      ],
      "text/plain": [
       "<xarray.Dataset>\n",
       "Dimensions:        (old_time: 182, second_time: 182, time: 182, xp: 50)\n",
       "Coordinates:\n",
       "  * old_time       (old_time) float64 2.002e+03 2.002e+03 ... 2.017e+03\n",
       "  * second_time    (second_time) float64 1.022e+09 1.024e+09 ... 1.498e+09\n",
       "  * time           (time) datetime64[ns] 2002-05-16T11:51:07.776000142 ... 2017-06-16T00:20:45.023996592\n",
       "  * xp             (xp) datetime64[ns] 2002-05-16T11:51:07.776000142 ... 2017-06-16T00:20:45.023996592\n",
       "Data variables:\n",
       "    SMB            (old_time) float64 95.82 92.14 76.21 ... -60.34 -58.38 -60.83\n",
       "    SMB_Corrected  (old_time) float64 113.3 109.4 93.34 ... -75.82 -74.04 -76.67\n",
       "    sinusoid       (xp) float64 -0.143 -3.976 1.57 3.412 ... -2.508 -2.703 3.479\n",
       "    y              (time) float64 30.31 27.28 12.02 ... -8.222 -5.603 -7.389\n",
       "    y-cc           (time) float64 30.45 28.47 14.24 ... -8.347 -7.403 -10.87"
      ]
     },
     "execution_count": 396,
     "metadata": {},
     "output_type": "execute_result"
    }
   ],
   "source": [
    "ds= tmsrdecomp(SMB.second_time,SMB.SMB,SMB)\n",
    "ds\n",
    "#plot_tmsrdecomp(ds,ds.SMB)\n"
   ]
  },
  {
   "cell_type": "code",
   "execution_count": 390,
   "metadata": {},
   "outputs": [],
   "source": [
    "def deci2date(dataset):\n",
    "    wholeyears = [int(value) for value in SMB.time.values]\n",
    "    secondsperyear=[(datetime(wholeyear+1,1,1)-datetime(wholeyear, 1, 1)).days*24*60*60 for wholeyear in wholeyears]\n",
    "    remainder =SMB.time.values-[int(value) for value in SMB.time.values]\n",
    "    reminseconds = remainder*secondsperyear\n",
    "    sinceepoch = [(datetime(wholeyear,1,1)-(datetime(1970,1,1))).days*24*60*60 for wholeyear in wholeyears]\n",
    "    total_seconds = sinceepoch+reminseconds\n",
    "    datetime = datetime(total_seconds,unit='s')\n",
    "    return datetime"
   ]
  },
  {
   "cell_type": "code",
   "execution_count": 159,
   "metadata": {},
   "outputs": [
    {
     "data": {
      "text/plain": [
       "[<matplotlib.lines.Line2D at 0x7f0568852b38>]"
      ]
     },
     "execution_count": 159,
     "metadata": {},
     "output_type": "execute_result"
    },
    {
     "data": {
      "image/png": "[encoded data removed]",
      "text/plain": [
       "<Figure size 432x288 with 1 Axes>"
      ]
     },
     "metadata": {
      "needs_background": "light"
     },
     "output_type": "display_data"
    }
   ],
   "source": [
    "Mass.Mass.plot()\n",
    "Mass.Mass_Corrected.plot()"
   ]
  },
  {
   "cell_type": "code",
   "execution_count": null,
   "metadata": {},
   "outputs": [],
   "source": [
    "def multi_ELE_V(npng):\n",
    "    fig, axes = plt.subplots(3,2,figsize=(18,12), sharex=True)\n",
    "    \n",
    "    for i in range(3):\n",
    "        for j in range(2):\n",
    "            \n",
    "            ds= xr.open_dataset('/exports/csce/datastore/geos/groups/geos_EO/Databases/MAR/Svalbard-RA/Svalbard_Masked/Region_Tmsr/Svalbard_'+str(typ)+str((1*(i+1))+i+j)+'.nc')\n",
    "            ds['time']= pd.date_range('2010-01-01','2020-12-31')\n",
    "            SMB= ds.smb_mean\n",
    "            \n",
    "            m_data=io.loadmat('/geos/d14/CS2/dhdt/Timeseries/Svalbard_MR'+str((1*(i+1))+i+j)+'_MF/tmsr_45_90_07_rgi60_Svalbard__marine_R'+str((1*(i+1))+i+j)+'.mat')\n",
    "            m_elevation = m_data['Tmsr'][0]\n",
    "            t = m_data['time'][0]\n",
    "            timepy= pd.to_datetime(t-719529, unit='D')\n",
    "            m_ds = xr.Dataset(data_vars = dict(elev= ([\"t\"],m_elevation+(0-m_elevation[0]))),coords=dict(t=timepy))\n",
    "\n",
    "            matdata=io.loadmat('/geos/d14/CS2/dhdt/Timeseries/Svalbard_LR'+str((1*(i+1))+i+j)+'_MF/tmsr_45_90_07_rgi60_Svalbard_land_R'+str((1*(i+1))+i+j)+'.mat')\n",
    "            elevation = matdata['Tmsr'][0]\n",
    "            t = matdata['time'][0]\n",
    "            timepy= pd.to_datetime(t-719529, unit='D')\n",
    "            E_ds = xr.Dataset(data_vars = dict(elev= ([\"t\"],elevation+(0-elevation[0]))),coords=dict(t=timepy))\n",
    "\n",
    "            labels = ['Marine Terminating','Land Terminating ',]\n",
    "            plt.rcParams['font.size'] = '14'\n",
    "            color = 'tab:red'\n",
    "            color2 = 'tab:cyan'\n",
    "            \n",
    "            axes[i,j].plot(m_ds.t, m_ds.elev, color=color)\n",
    "            axes[i,j].legend(labels)\n",
    "            axes[i, j].set_title('Region '+str((1*(i+1))+i+j))\n",
    "            \n",
    "            axes[i,j].plot(E_ds.t, E_ds.elev, color=color2)\n",
    "            axes[i,j].plot(SMB.time.sel(time=slice('2010-07-16','2019-12-31')), SMB.sel(time=slice('2010-07-16','2019-12-31')).cumsum(), color=color2)\n",
    "            axes[i,j].plot(G.time.sel(time=slice('2010-07-16','2019-12-31')), G.sel(time=slice('2010-07-16','2019-12-31')).cumsum(), color=color2)\n",
    "            \n",
    "            axes[i,j].axhline(y=0,linestyle='dashed',color='gray')\n",
    "            axes[i,j].legend(labels)\n",
    "            \n",
    "    for ax in axes.flat:\n",
    "        ax.set(xlabel='Time', ylabel='Elevation Change [m] recur')\n",
    "    for ax in axes.flat:\n",
    "        ax.label_outer()\n",
    "    fig.suptitle('Svalbard Type Comparison')\n",
    "    #fig.tight_layout()  # otherwise the right y-label is slightly clipped\n",
    "    plt.savefig(npng)\n",
    "    plt.show()"
   ]
  }
 ],
 "metadata": {
  "kernelspec": {
   "display_name": "Python 3",
   "language": "python",
   "name": "python3"
  },
  "language_info": {
   "codemirror_mode": {
    "name": "ipython",
    "version": 3
   },
   "file_extension": ".py",
   "mimetype": "text/x-python",
   "name": "python",
   "nbconvert_exporter": "python",
   "pygments_lexer": "ipython3",
   "version": "3.6.8"
  }
 },
 "nbformat": 4,
 "nbformat_minor": 2
}
