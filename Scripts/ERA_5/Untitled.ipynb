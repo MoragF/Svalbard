{
 "cells": [
  {
   "cell_type": "code",
   "execution_count": 1,
   "metadata": {},
   "outputs": [],
   "source": [
    "from netCDF4 import Dataset as netcdf \n",
    "from scipy import signal\n",
    "\n",
    "from pylab import *\n",
    "import numpy as np\n",
    "import os\n",
    "import matplotlib.pyplot as plt\n",
    "import datetime\n",
    "import scipy.stats as stats\n",
    "import cftime\n",
    "from cftime import utime\n",
    "import pandas as pd\n",
    "from matplotlib import pyplot as plt\n",
    "import cartopy.crs as ccrs\n",
    "import cartopy.feature as cfeature\n",
    "import zipfile\n",
    "import xarray as xr"
   ]
  },
  {
   "cell_type": "code",
   "execution_count": null,
   "metadata": {},
   "outputs": [],
   "source": [
    "import xarray as xr\n",
    "data= xr.open_dataset('/exports/csce/datastore/geos/groups/geos_EO/Databases/ERA_5/download_Arctic.nc')\n",
    "data.t2m.units\n",
    "ds_time=data.mean(dim=('longitude','latitude'))"
   ]
  },
  {
   "cell_type": "code",
   "execution_count": null,
   "metadata": {},
   "outputs": [],
   "source": [
    "data.time"
   ]
  },
  {
   "cell_type": "code",
   "execution_count": null,
   "metadata": {},
   "outputs": [],
   "source": []
  },
  {
   "cell_type": "code",
   "execution_count": null,
   "metadata": {},
   "outputs": [],
   "source": [
    "def remove_time_mean(x):\n",
    "    return x - x.mean(dim='time')\n",
    "\n",
    "monthly_annual_anom = ds_time.groupby(\"time.month\").apply(remove_time_mean)"
   ]
  },
  {
   "cell_type": "code",
   "execution_count": null,
   "metadata": {},
   "outputs": [],
   "source": [
    "\n",
    "\n",
    "fig, (ax1, ax2, ax3) = plt.subplots(3,figsize=(16,15), sharex=True)\n",
    "plt.suptitle('Monthly Anomaly 1979-2019', fontsize=16)\n",
    "\n",
    "color = 'tab:red'\n",
    "ax1.set_ylabel(data.t2m.units, color=color, fontsize=15)\n",
    "ax1.plot(ds.time, (monthly_annual_anom.t2m), color=color)\n",
    "ax1.legend('2m temperature')\n",
    "    \n",
    "color = 'tab:green'\n",
    "ax2.set_ylabel(data.sst.units, color=color, fontsize=15)  \n",
    "ax2.plot(ds.time,(monthly_annual_anom.sst), color=color)\n",
    "ax2.legend('SST')\n",
    "    \n",
    "color = 'tab:orange'\n",
    "ax3.set_ylabel(data.tp.units, color=color, fontsize=15)  \n",
    "ax3.plot(ds.time, monthly_annual_anom.tp, color=color)\n",
    "ax3.legend('Total Precipitation')\n",
    "    \n",
    "#fig.tight_layout(rect=[0, 0.03, 1, 0.95])  # otherwise the right y-label is slightly clipped\n",
    "#plt.savefig('Climate_tmsr_monthly_anom')\n",
    "plt.show()"
   ]
  },
  {
   "cell_type": "code",
   "execution_count": null,
   "metadata": {},
   "outputs": [],
   "source": []
  }
 ],
 "metadata": {
  "kernelspec": {
   "display_name": "Python 3",
   "language": "python",
   "name": "python3"
  },
  "language_info": {
   "codemirror_mode": {
    "name": "ipython",
    "version": 3
   },
   "file_extension": ".py",
   "mimetype": "text/x-python",
   "name": "python",
   "nbconvert_exporter": "python",
   "pygments_lexer": "ipython3",
   "version": "3.8.10"
  }
 },
 "nbformat": 4,
 "nbformat_minor": 2
}
